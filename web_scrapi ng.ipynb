{
 "cells": [
  {
   "cell_type": "code",
   "execution_count": 126,
   "id": "8a1e63ac-85a9-4d6e-aad3-c2a94fd330ad",
   "metadata": {},
   "outputs": [
    {
     "name": "stdout",
     "output_type": "stream",
     "text": [
      "Requirement already satisfied: selectorlib in c:\\users\\shibb\\appdata\\local\\programs\\python\\python310\\lib\\site-packages (0.16.0)\n",
      "Requirement already satisfied: pyyaml>=3.12 in c:\\users\\shibb\\appdata\\local\\programs\\python\\python310\\lib\\site-packages (from selectorlib) (6.0.1)\n",
      "Requirement already satisfied: Click>=6.0 in c:\\users\\shibb\\appdata\\local\\programs\\python\\python310\\lib\\site-packages (from selectorlib) (8.1.3)\n",
      "Requirement already satisfied: parsel>=1.5.1 in c:\\users\\shibb\\appdata\\local\\programs\\python\\python310\\lib\\site-packages (from selectorlib) (1.8.1)\n",
      "Requirement already satisfied: colorama in c:\\users\\shibb\\appdata\\local\\programs\\python\\python310\\lib\\site-packages (from Click>=6.0->selectorlib) (0.4.6)\n",
      "Requirement already satisfied: cssselect>=0.9 in c:\\users\\shibb\\appdata\\local\\programs\\python\\python310\\lib\\site-packages (from parsel>=1.5.1->selectorlib) (1.2.0)\n",
      "Requirement already satisfied: lxml in c:\\users\\shibb\\appdata\\local\\programs\\python\\python310\\lib\\site-packages (from parsel>=1.5.1->selectorlib) (4.9.3)\n",
      "Requirement already satisfied: w3lib>=1.19.0 in c:\\users\\shibb\\appdata\\local\\programs\\python\\python310\\lib\\site-packages (from parsel>=1.5.1->selectorlib) (2.1.2)\n",
      "Requirement already satisfied: packaging in c:\\users\\shibb\\appdata\\local\\programs\\python\\python310\\lib\\site-packages (from parsel>=1.5.1->selectorlib) (23.1)\n",
      "Requirement already satisfied: jmespath in c:\\users\\shibb\\appdata\\local\\programs\\python\\python310\\lib\\site-packages (from parsel>=1.5.1->selectorlib) (1.0.1)\n"
     ]
    },
    {
     "name": "stderr",
     "output_type": "stream",
     "text": [
      "\n",
      "[notice] A new release of pip is available: 23.0.1 -> 23.2.1\n",
      "[notice] To update, run: python.exe -m pip install --upgrade pip\n"
     ]
    }
   ],
   "source": [
    "!pip install selectorlib;\n",
    "import requests\n",
    "import selectorlib;"
   ]
  },
  {
   "cell_type": "code",
   "execution_count": 127,
   "id": "5273a1ac-415f-4840-8179-def6b19d52f3",
   "metadata": {},
   "outputs": [],
   "source": [
    "URL = \"https://programmer100.pythonanywhere.com/tours/\"  # Tours page url\n",
    "# URL = \"https://programmer100.pythonanywhere.com/\"    # Home page url\n",
    "\n",
    "HEADERS = {\n",
    "    'User-Agent': 'Mozilla/5.0 (Macintosh; Intel Mac OS X 10_10_1) AppleWebKit/537.36 (KHTML, like Gecko) Chrome/39.0.2171.95 Safari/537.36'}"
   ]
  },
  {
   "cell_type": "code",
   "execution_count": 128,
   "id": "6f7c1325-13a6-4e17-81a0-ae82860b65e7",
   "metadata": {},
   "outputs": [
    {
     "name": "stdout",
     "output_type": "stream",
     "text": [
      "\n",
      "\n",
      "<!DOCTYPE html>\n",
      "<html lang=\"en\">\n",
      "\n",
      "<head>\n",
      "    <meta charset=\"utf-8\">\n",
      "    <meta name=\"viewport\" content=\"width=device-width, initial-scale=1, shrink-to-fit=no\">\n",
      "    <meta http-equiv=\"x-ua-compatible\" content=\"ie=edge\">\n",
      "    <title>PythonHow App | \n",
      "\tHome\n",
      "</title>\n",
      "    <!-- Font Awesome -->\n",
      "    <link rel=\"stylesheet\" href=\"https://maxcdn.bootstrapcdn.com/font-awesome/4.7.0/css/font-awesome.min.css\">\n",
      "    <!-- Bootstrap core CSS -->\n",
      "    <link href=\"/static/css/bootstrap.min.css\" rel=\"stylesheet\">\n",
      "    <!-- Material Design Bootstrap -->\n",
      "    <link href=\"/static/css/mdb.min.css\" rel=\"stylesheet\">\n",
      "    <!-- Your custom styles (optional) -->\n",
      "    <link href=\"/static/css/style.css\" rel=\"stylesheet\">\n",
      "  </head>\n",
      "\n",
      "  <body>\n",
      "\n",
      "    \n",
      "      <!--Navbar-->\n",
      "<nav class=\"navbar navbar-expand-lg navbar-dark secondary-color mb-5\">\n",
      "\n",
      "<div class=\"container\">\n",
      "    <!-- Navbar brand -->\n",
      "    <a class=\"navbar-brand\" href=\"/\">Home</a>\n",
      "\n",
      "    <!-- Collapse button -->\n",
      "    <button class=\"navbar-toggler\" type=\"button\" data-toggle=\"collapse\" data-target=\"#basicExampleNav\" aria-controls=\"basicExampleNav\"\n",
      "        aria-expanded=\"false\" aria-label=\"Toggle navigation\">\n",
      "        <span class=\"navbar-toggler-icon\"></span>\n",
      "    </button>\n",
      "\n",
      "    <!-- Collapsible content -->\n",
      "    <div class=\"collapse navbar-collapse\" id=\"basicExampleNav\">\n",
      "\n",
      "        <!-- Links -->\n",
      "        <ul class=\"navbar-nav mr-auto\">\n",
      "            <li class=\"nav-item active\">\n",
      "\n",
      "            </li>\n",
      "            <!-- <li class=\"nav-item\">\n",
      "                <a class=\"nav-link\" href=\"/signup/\">Sign up</a>\n",
      "            </li> -->\n",
      "\n",
      "            <li class=\"nav-item\">\n",
      "                <a class=\"nav-link\" href=\"/tours/\">Tours</a>\n",
      "            </li>\n",
      "            \n",
      "\n",
      "        </ul>\n",
      "        <!-- Links -->\n",
      "\n",
      "        <!-- login and logout buttons -->\n",
      "\n",
      "\n",
      "    </div>\n",
      "    <!-- Collapsible content -->\n",
      "\n",
      "</div>\n",
      "\n",
      "</nav>\n",
      "<!--/.Navbar-->\n",
      "    \n",
      "\n",
      "      <!-- Start your project here-->\n",
      "      <div style=\"height: 20vh\" class=\"container\">\n",
      "\n",
      "      \t\n",
      "\n",
      "\t\n",
      "\n",
      "          <div class=\"flex-center flex-column\">\n",
      "              <h1 class=\"animated fadeIn mb-4\">“For the things we have to learn before we can do them, we learn by doing them”- Aristotle</h1>\n",
      "              <h1 align=\"right\">Next Tour:</h1>\n",
      "              <h1 align=\"right \" id=\"displaytimer\">No upcoming tours</h1>\n",
      "              <p class=\"animated fadeIn text-muted\">PythnoHow Team</p>\n",
      "\n",
      "\n",
      "          </div>\n",
      "\n",
      "        \n",
      "\n",
      "\n",
      "      </div>\n",
      "      <!-- /Start your project here-->\n",
      "\n",
      "    <!-- SCRIPTS -->\n",
      "    <!-- JQuery -->\n",
      "    <script type=\"text/javascript\" src=\"/static/js/jquery-3.3.1.min.js\"></script>\n",
      "    <!-- Bootstrap tooltips -->\n",
      "    <script type=\"text/javascript\" src=\"/static/js/popper.min.js\"></script>\n",
      "    <!-- Bootstrap core JavaScript -->\n",
      "    <script type=\"text/javascript\" src=\"/static/js/bootstrap.min.js\"></script>\n",
      "    <!-- MDB core JavaScript -->\n",
      "    <script type=\"text/javascript\" src=\"/static/js/mdb.min.js\"></script>\n",
      "</body>\n",
      "\n",
      "</html>\n",
      "\n",
      "\n"
     ]
    }
   ],
   "source": [
    "# Get respose code\n",
    "response = requests.get(url=URL)#, headers=HEADERS)\n",
    "# Get html text from response code\n",
    "html = response.text\n",
    "# print(response)\n",
    "print(html)"
   ]
  },
  {
   "cell_type": "code",
   "execution_count": 129,
   "id": "cb07d615-4062-40b0-80c9-d1c43559eeb4",
   "metadata": {},
   "outputs": [
    {
     "name": "stdout",
     "output_type": "stream",
     "text": [
      "<selectorlib.selectorlib.Extractor object at 0x0000019F61EAA080>\n"
     ]
    }
   ],
   "source": [
    "extractor = selectorlib.Extractor.from_yaml_file(\"extract.yaml\")\n",
    "print(extractor)"
   ]
  },
  {
   "cell_type": "code",
   "execution_count": 130,
   "id": "029d996c-0741-4b94-af1d-717376fc2f9e",
   "metadata": {},
   "outputs": [
    {
     "data": {
      "text/plain": [
       "{'tours': 'No upcoming tours'}"
      ]
     },
     "execution_count": 130,
     "metadata": {},
     "output_type": "execute_result"
    }
   ],
   "source": [
    "value = extractor.extract(html)#[\"tours\"]\n",
    "value "
   ]
  },
  {
   "cell_type": "code",
   "execution_count": 131,
   "id": "c68eb8a8-3dcf-49da-9595-529eb295b3d6",
   "metadata": {},
   "outputs": [
    {
     "data": {
      "text/plain": [
       "'No upcoming tours'"
      ]
     },
     "execution_count": 131,
     "metadata": {},
     "output_type": "execute_result"
    }
   ],
   "source": [
    "value = value[\"tours\"]\n",
    "value "
   ]
  },
  {
   "cell_type": "code",
   "execution_count": 132,
   "id": "12a49bf6-b746-4582-908f-e1cc572c463b",
   "metadata": {
    "scrolled": true
   },
   "outputs": [
    {
     "data": {
      "text/plain": [
       "['No upcoming tours']"
      ]
     },
     "execution_count": 132,
     "metadata": {},
     "output_type": "execute_result"
    }
   ],
   "source": [
    "# Split the string by \"Next Tour:\" and take the second part\n",
    "value2 = value.split('Next Tour:')\n",
    "value2"
   ]
  },
  {
   "cell_type": "code",
   "execution_count": 133,
   "id": "f82d796b-c0a2-4fac-a73d-c8aae30c3a37",
   "metadata": {},
   "outputs": [
    {
     "ename": "IndexError",
     "evalue": "list index out of range",
     "output_type": "error",
     "traceback": [
      "\u001b[1;31m---------------------------------------------------------------------------\u001b[0m",
      "\u001b[1;31mIndexError\u001b[0m                                Traceback (most recent call last)",
      "Cell \u001b[1;32mIn[133], line 1\u001b[0m\n\u001b[1;32m----> 1\u001b[0m value \u001b[38;5;241m=\u001b[39m \u001b[43mvalue\u001b[49m\u001b[38;5;241;43m.\u001b[39;49m\u001b[43msplit\u001b[49m\u001b[43m(\u001b[49m\u001b[38;5;124;43m'\u001b[39;49m\u001b[38;5;124;43mNext Tour:\u001b[39;49m\u001b[38;5;124;43m'\u001b[39;49m\u001b[43m)\u001b[49m\u001b[43m[\u001b[49m\u001b[38;5;241;43m1\u001b[39;49m\u001b[43m]\u001b[49m\u001b[38;5;241m.\u001b[39mstrip()\n\u001b[0;32m      2\u001b[0m value\n",
      "\u001b[1;31mIndexError\u001b[0m: list index out of range"
     ]
    }
   ],
   "source": [
    "value = value.split('Next Tour:')[1].strip()\n",
    "value"
   ]
  },
  {
   "cell_type": "code",
   "execution_count": null,
   "id": "1cd6dd00-6cce-46a8-b5ef-fd9bfd22759a",
   "metadata": {},
   "outputs": [],
   "source": [
    "# Split the string into words\n",
    "value = value.split()\n",
    "value"
   ]
  },
  {
   "cell_type": "code",
   "execution_count": null,
   "id": "fc92c972-73bb-4e23-aed7-38dc45c58a29",
   "metadata": {},
   "outputs": [],
   "source": [
    "# Exclude the last two words\n",
    "value = ' '.join(value[:-2])\n",
    "value"
   ]
  },
  {
   "cell_type": "code",
   "execution_count": null,
   "id": "92b5960a-7156-4358-99cf-c4a64780b568",
   "metadata": {},
   "outputs": [],
   "source": [
    "# value = ' '.join(value)\n",
    "# value"
   ]
  },
  {
   "cell_type": "code",
   "execution_count": null,
   "id": "dbeb4a82-cd93-459e-a533-61d16ff884ac",
   "metadata": {},
   "outputs": [],
   "source": [
    "# print(next_tour_portion)\n",
    "print('value:', value)"
   ]
  },
  {
   "cell_type": "code",
   "execution_count": null,
   "id": "949db410-db21-43be-ba23-2624b0f5f446",
   "metadata": {},
   "outputs": [],
   "source": []
  }
 ],
 "metadata": {
  "kernelspec": {
   "display_name": "Python 3 (ipykernel)",
   "language": "python",
   "name": "python3"
  },
  "language_info": {
   "codemirror_mode": {
    "name": "ipython",
    "version": 3
   },
   "file_extension": ".py",
   "mimetype": "text/x-python",
   "name": "python",
   "nbconvert_exporter": "python",
   "pygments_lexer": "ipython3",
   "version": "3.10.11"
  }
 },
 "nbformat": 4,
 "nbformat_minor": 5
}
